{
 "cells": [
  {
   "cell_type": "code",
   "execution_count": null,
   "metadata": {},
   "outputs": [],
   "source": [
    "import pandas as pd\n",
    "import random"
   ]
  },
  {
   "cell_type": "code",
   "execution_count": null,
   "metadata": {},
   "outputs": [],
   "source": [
    "names = [\"Albert\",\"John\",\"Richard\",\"Henry\",\"William\"]\n",
    "surnames = [\"Goodman\",\"Black\",\"White\",\"Green\",\"Joneson\"]\n",
    "salaries = [500*random.randint(10,30) for _ in range(10)]\n",
    "def generate_random_person(names, surnames, salaries):\n",
    "    return {\"name\":random.sample(names,1)[0],\n",
    "            \"surname\":random.sample(surnames,1)[0],\n",
    "            \"salary\":random.sample(salaries,1)[0]}\n",
    "def generate_people(k):\n",
    "    return [generate_random_person(names, surnames, salaries) for _ in range(k)]"
   ]
  },
  {
   "cell_type": "code",
   "execution_count": null,
   "metadata": {},
   "outputs": [],
   "source": [
    "df = pd.DataFrame(generate_people(50),columns=[\"name\",\"surname\",\"salary\"])"
   ]
  },
  {
   "cell_type": "code",
   "execution_count": null,
   "metadata": {},
   "outputs": [],
   "source": [
    "df.to_csv(\"random_people.csv\")"
   ]
  },
  {
   "cell_type": "code",
   "execution_count": null,
   "metadata": {},
   "outputs": [],
   "source": [
    "import pandas as pd \n",
    "\n",
    "df = pd.read_csv(\"random_people.csv\")\n"
   ]
  },
  {
   "cell_type": "code",
   "execution_count": null,
   "metadata": {},
   "outputs": [],
   "source": [
    "df.head(10)"
   ]
  },
  {
   "cell_type": "code",
   "execution_count": null,
   "metadata": {},
   "outputs": [],
   "source": [
    "df.describe()"
   ]
  },
  {
   "cell_type": "code",
   "execution_count": null,
   "metadata": {},
   "outputs": [],
   "source": [
    "df['salary'].value_counts()"
   ]
  },
  {
   "cell_type": "code",
   "execution_count": null,
   "metadata": {},
   "outputs": [],
   "source": [
    "df['salary'].median()"
   ]
  },
  {
   "cell_type": "code",
   "execution_count": null,
   "metadata": {},
   "outputs": [],
   "source": [
    "import pandas as pd\n",
    "import matplotlib.pyplot as plt\n",
    "y = list(df.salary)\n",
    "plt.boxplot(y)\n",
    "plt.show()"
   ]
  },
  {
   "cell_type": "code",
   "execution_count": null,
   "metadata": {},
   "outputs": [],
   "source": [
    "df[\"salary_after_tax\"] = df[\"salary\"]*.8"
   ]
  },
  {
   "cell_type": "code",
   "execution_count": null,
   "metadata": {},
   "outputs": [],
   "source": [
    "def tax(s):\n",
    "    if s>=8000:\n",
    "        return s*.7\n",
    "    else:\n",
    "        return s*.85"
   ]
  },
  {
   "cell_type": "code",
   "execution_count": null,
   "metadata": {},
   "outputs": [],
   "source": [
    "df[\"salary_after_tax\"] = df[\"salary\"].apply(tax)\n",
    "df"
   ]
  },
  {
   "cell_type": "code",
   "execution_count": null,
   "metadata": {},
   "outputs": [],
   "source": [
    "df_low = df[df[\"salary\"]<8000]\n",
    "df_high = df[df[\"salary\"]>=8000]"
   ]
  },
  {
   "cell_type": "code",
   "execution_count": null,
   "metadata": {},
   "outputs": [],
   "source": [
    "df_high[\"salary\"].mean()"
   ]
  },
  {
   "cell_type": "code",
   "execution_count": null,
   "metadata": {},
   "outputs": [],
   "source": [
    "df_low= df.loc[df[\"salary\"]<6000,\"salary\"]\n",
    "df.loc[df[\"salary\"]<6000,\"salary_after_tax\"] = df_low*.85\n",
    "\n",
    "df_low= df.loc[df[\"salary\"]>=6000,\"salary\"]\n",
    "df.loc[df[\"salary\"]>=6000,\"salary_after_tax\"] = df_low*.7"
   ]
  },
  {
   "cell_type": "code",
   "execution_count": null,
   "metadata": {},
   "outputs": [],
   "source": [
    "import pandas as pd\n",
    " \n",
    "import numpy as np\n",
    " \n",
    "\n",
    "dict = {'First Score':[100, 90, np.nan, 95],\n",
    "        'Second Score': [30, 45, 56, np.nan],\n",
    "        'Third Score':[np.nan, 40, 80, 98]}\n",
    " \n",
    "df = pd.DataFrame(dict)\n",
    "\n",
    "df.isnull()\n",
    "df"
   ]
  },
  {
   "cell_type": "code",
   "execution_count": null,
   "metadata": {},
   "outputs": [],
   "source": [
    "df.fillna(10)"
   ]
  },
  {
   "cell_type": "code",
   "execution_count": null,
   "metadata": {},
   "outputs": [],
   "source": [
    "import pandas as pd\n",
    " \n",
    "# importing numpy as np\n",
    "import numpy as np\n",
    " \n",
    "# dictionary of lists\n",
    "dict = {'First Score':[100, 90, np.nan, 95],\n",
    "        'Second Score': [30, 45, 56, np.nan],\n",
    "        'Third Score':[np.nan, 40, 80, 98]}\n",
    " \n",
    "# creating a dataframe from dictionary\n",
    "df = pd.DataFrame(dict)\n",
    " \n",
    "# filling a missing value with\n",
    "# previous ones \n",
    "df.fillna(method ='pad')"
   ]
  },
  {
   "cell_type": "code",
   "execution_count": null,
   "metadata": {},
   "outputs": [],
   "source": [
    "import pandas as pd\n",
    " \n",
    "# importing numpy as np\n",
    "import numpy as np\n",
    " \n",
    "# dictionary of lists\n",
    "dict = {'First Score':[100, 90, np.nan, 95],\n",
    "        'Second Score': [30, 45, 56, np.nan],\n",
    "        'Third Score':[np.nan, 40, 80, 98]}\n",
    " \n",
    "# creating a dataframe from dictionary\n",
    "df = pd.DataFrame(dict)\n",
    " \n",
    "# filling  null value using fillna() function \n",
    "df.fillna(method ='bfill')"
   ]
  },
  {
   "cell_type": "code",
   "execution_count": null,
   "metadata": {},
   "outputs": [],
   "source": [
    "import pandas as pd\n",
    "   \n",
    "# Creating the dataframe \n",
    "df = pd.DataFrame({\"A\":[12, 4, 5, None, 1],\n",
    "                   \"B\":[None, 2, 54, 3, None],\n",
    "                   \"C\":[20, 16, None, 3, 8],\n",
    "                   \"D\":[14, 3, None, None, 6]})\n",
    "   \n",
    "# Print the dataframe\n",
    "df"
   ]
  },
  {
   "cell_type": "code",
   "execution_count": null,
   "metadata": {},
   "outputs": [],
   "source": [
    "df.interpolate(method ='linear', limit_direction ='forward')"
   ]
  },
  {
   "cell_type": "code",
   "execution_count": null,
   "metadata": {},
   "outputs": [],
   "source": [
    "import pandas as pd\n",
    " \n",
    "# importing numpy as np\n",
    "import numpy as np\n",
    " \n",
    "# dictionary of lists\n",
    "dict = {'First Score':[100, 90, np.nan, 95],\n",
    "        'Second Score': [30, np.nan, 45, 56],\n",
    "        'Third Score':[52, 40, 80, 98],\n",
    "        'Fourth Score':[np.nan, np.nan, np.nan, 65]}\n",
    " \n",
    "# creating a dataframe from dictionary\n",
    "df = pd.DataFrame(dict)\n",
    "   \n",
    "df"
   ]
  },
  {
   "cell_type": "code",
   "execution_count": null,
   "metadata": {},
   "outputs": [],
   "source": [
    "import pandas as pd\n",
    " \n",
    "# importing numpy as np\n",
    "import numpy as np\n",
    " \n",
    "# dictionary of lists\n",
    "dict = {'First Score':[100, 90, np.nan, 95],\n",
    "        'Second Score': [30, np.nan, 45, 56],\n",
    "        'Third Score':[52, 40, 80, 98],\n",
    "        'Fourth Score':[np.nan, np.nan, np.nan, 65]}\n",
    " \n",
    "# creating a dataframe from dictionary\n",
    "df = pd.DataFrame(dict)\n",
    " \n",
    "# using dropna() function \n",
    "df.dropna()"
   ]
  },
  {
   "cell_type": "code",
   "execution_count": null,
   "metadata": {},
   "outputs": [],
   "source": [
    "import pandas as pd\n",
    " \n",
    "# importing numpy as np\n",
    "import numpy as np\n",
    " \n",
    "# dictionary of lists\n",
    "dict = {'First Score':[100, np.nan, np.nan, 95],\n",
    "        'Second Score': [30, np.nan, 45, 56],\n",
    "        'Third Score':[52, np.nan, 80, 98],\n",
    "        'Fourth Score':[np.nan, np.nan, np.nan, 65]}\n",
    " \n",
    "# creating a dataframe from dictionary\n",
    "df = pd.DataFrame(dict)\n",
    "   \n",
    "df"
   ]
  },
  {
   "cell_type": "code",
   "execution_count": null,
   "metadata": {},
   "outputs": [],
   "source": [
    "import pandas as pd\n",
    " \n",
    "# importing numpy as np\n",
    "import numpy as np\n",
    " \n",
    "# dictionary of lists\n",
    "dict = {'First Score':[100, np.nan, np.nan, 95],\n",
    "        'Second Score': [30, np.nan, 45, 56],\n",
    "        'Third Score':[52, np.nan, 80, 98],\n",
    "        'Fourth Score':[np.nan, np.nan, np.nan, 65]}\n",
    " \n",
    "df = pd.DataFrame(dict)\n",
    " \n",
    "# using dropna() function   \n",
    "df.dropna(how = 'all')"
   ]
  },
  {
   "cell_type": "code",
   "execution_count": null,
   "metadata": {},
   "outputs": [],
   "source": [
    "import pandas as pd\n",
    "  \n",
    "# importing numpy as np\n",
    "import numpy as np\n",
    "  \n",
    "# dictionary of lists\n",
    "dict = {'First Score':[100, np.nan, np.nan, 95],\n",
    "        'Second Score': [30, np.nan, 45, 56],\n",
    "        'Third Score':[52, np.nan, 80, 98],\n",
    "        'Fourth Score':[60, 67, 68, 65]}\n",
    " \n",
    "# creating a dataframe from dictionary\n",
    "df = pd.DataFrame(dict)\n",
    "    \n",
    "df"
   ]
  },
  {
   "cell_type": "code",
   "execution_count": null,
   "metadata": {},
   "outputs": [],
   "source": [
    "import pandas as pd\n",
    "  \n",
    "# importing numpy as np\n",
    "import numpy as np\n",
    "  \n",
    "# dictionary of lists\n",
    "dict = {'First Score':[100, np.nan, np.nan, 95],\n",
    "        'Second Score': [30, np.nan, 45, 56],\n",
    "        'Third Score':[52, np.nan, 80, 98],\n",
    "        'Fourth Score':[60, 67, 68, 65]}\n",
    " \n",
    "# creating a dataframe from dictionary \n",
    "df = pd.DataFrame(dict)\n",
    " \n",
    "# using dropna() function    \n",
    "df.dropna(axis = 1)"
   ]
  }
 ],
 "metadata": {
  "kernelspec": {
   "display_name": "venv",
   "language": "python",
   "name": "python3"
  },
  "language_info": {
   "codemirror_mode": {
    "name": "ipython",
    "version": 3
   },
   "file_extension": ".py",
   "mimetype": "text/x-python",
   "name": "python",
   "nbconvert_exporter": "python",
   "pygments_lexer": "ipython3",
   "version": "3.11.2"
  },
  "orig_nbformat": 4
 },
 "nbformat": 4,
 "nbformat_minor": 2
}
